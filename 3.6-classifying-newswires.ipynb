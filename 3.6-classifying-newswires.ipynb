{
 "cells": [
  {
   "cell_type": "code",
   "execution_count": 1,
   "metadata": {},
   "outputs": [
    {
     "name": "stdout",
     "output_type": "stream",
     "text": [
      "Tensorflow :  2.0.0\n",
      " |-> Keras :  2.2.4-tf\n"
     ]
    }
   ],
   "source": [
    "import tensorflow as tf\n",
    "from tensorflow import keras\n",
    "print( 'Tensorflow : ',tf.__version__)\n",
    "print( ' |-> Keras : ',keras.__version__)"
   ]
  },
  {
   "cell_type": "markdown",
   "metadata": {},
   "source": [
    "# Classifying newswires: a multi-class classification example\n",
    "\n",
    "This notebook contains the code samples found in Chapter 3, Section 5 of [Deep Learning with Python](https://www.manning.com/books/deep-learning-with-python?a_aid=keras&a_bid=76564dff). Note that the original text features far more content, in particular further explanations and figures: in this notebook, you will only find source code and related comments.\n",
    "\n",
    "----\n",
    "\n",
    "In the previous section we saw how to classify vector inputs into two mutually exclusive classes using a densely-connected neural network. \n",
    "But what happens when you have more than two classes? \n",
    "\n",
    "In this section, we will build a network to classify Reuters newswires into 46 different mutually-exclusive topics. Since we have many \n",
    "classes, this problem is an instance of \"multi-class classification\", and since each data point should be classified into only one \n",
    "category, the problem is more specifically an instance of \"single-label, multi-class classification\". If each data point could have \n",
    "belonged to multiple categories (in our case, topics) then we would be facing a \"multi-label, multi-class classification\" problem."
   ]
  },
  {
   "cell_type": "markdown",
   "metadata": {},
   "source": [
    "## The Reuters dataset\n",
    "\n",
    "\n",
    "We will be working with the _Reuters dataset_, a set of short newswires and their topics, published by Reuters in 1986. It's a very simple, \n",
    "widely used toy dataset for text classification. There are 46 different topics; some topics are more represented than others, but each \n",
    "topic has at least 10 examples in the training set.\n",
    "\n",
    "Like IMDB and MNIST, the Reuters dataset comes packaged as part of Keras. Let's take a look right away:"
   ]
  },
  {
   "cell_type": "code",
   "execution_count": 2,
   "metadata": {},
   "outputs": [
    {
     "name": "stderr",
     "output_type": "stream",
     "text": [
      "Using TensorFlow backend.\n"
     ]
    },
    {
     "name": "stdout",
     "output_type": "stream",
     "text": [
      "Downloading data from https://s3.amazonaws.com/text-datasets/reuters.npz\n",
      "2113536/2110848 [==============================] - ETA:  - 2s 1us/step\n"
     ]
    }
   ],
   "source": [
    "from keras.datasets import reuters\n",
    "\n",
    "(train_data, train_labels), (test_data, test_labels) = reuters.load_data(num_words=10000)"
   ]
  },
  {
   "cell_type": "markdown",
   "metadata": {},
   "source": [
    "\n",
    "Like with the IMDB dataset, the argument `num_words=10000` restricts the data to the 10,000 most frequently occurring words found in the \n",
    "data.\n",
    "\n",
    "We have 8,982 training examples and 2,246 test examples:"
   ]
  },
  {
   "cell_type": "code",
   "execution_count": 3,
   "metadata": {},
   "outputs": [
    {
     "data": {
      "text/plain": [
       "8982"
      ]
     },
     "execution_count": 3,
     "metadata": {},
     "output_type": "execute_result"
    }
   ],
   "source": [
    "len(train_data)"
   ]
  },
  {
   "cell_type": "code",
   "execution_count": 4,
   "metadata": {},
   "outputs": [
    {
     "data": {
      "text/plain": [
       "2246"
      ]
     },
     "execution_count": 4,
     "metadata": {},
     "output_type": "execute_result"
    }
   ],
   "source": [
    "len(test_data)"
   ]
  },
  {
   "cell_type": "markdown",
   "metadata": {},
   "source": [
    "As with the IMDB reviews, each example is a list of integers (word indices):"
   ]
  },
  {
   "cell_type": "code",
   "execution_count": 5,
   "metadata": {},
   "outputs": [
    {
     "data": {
      "text/plain": [
       "[1,\n",
       " 245,\n",
       " 273,\n",
       " 207,\n",
       " 156,\n",
       " 53,\n",
       " 74,\n",
       " 160,\n",
       " 26,\n",
       " 14,\n",
       " 46,\n",
       " 296,\n",
       " 26,\n",
       " 39,\n",
       " 74,\n",
       " 2979,\n",
       " 3554,\n",
       " 14,\n",
       " 46,\n",
       " 4689,\n",
       " 4329,\n",
       " 86,\n",
       " 61,\n",
       " 3499,\n",
       " 4795,\n",
       " 14,\n",
       " 61,\n",
       " 451,\n",
       " 4329,\n",
       " 17,\n",
       " 12]"
      ]
     },
     "execution_count": 5,
     "metadata": {},
     "output_type": "execute_result"
    }
   ],
   "source": [
    "train_data[10]"
   ]
  },
  {
   "cell_type": "markdown",
   "metadata": {},
   "source": [
    "Here's how you can decode it back to words, in case you are curious:"
   ]
  },
  {
   "cell_type": "code",
   "execution_count": 6,
   "metadata": {},
   "outputs": [
    {
     "name": "stdout",
     "output_type": "stream",
     "text": [
      "Downloading data from https://s3.amazonaws.com/text-datasets/reuters_word_index.json\n",
      "557056/550378 [==============================] - 1s 2us/step\n"
     ]
    }
   ],
   "source": [
    "word_index = reuters.get_word_index()\n",
    "reverse_word_index = dict([(value, key) for (key, value) in word_index.items()])\n",
    "# Note that our indices were offset by 3\n",
    "# because 0, 1 and 2 are reserved indices for \"padding\", \"start of sequence\", and \"unknown\".\n",
    "decoded_newswire = ' '.join([reverse_word_index.get(i - 3, '?') for i in train_data[0]])"
   ]
  },
  {
   "cell_type": "code",
   "execution_count": 7,
   "metadata": {},
   "outputs": [
    {
     "data": {
      "text/plain": [
       "'? ? ? said as a result of its december acquisition of space co it expects earnings per share in 1987 of 1 15 to 1 30 dlrs per share up from 70 cts in 1986 the company said pretax net should rise to nine to 10 mln dlrs from six mln dlrs in 1986 and rental operation revenues to 19 to 22 mln dlrs from 12 5 mln dlrs it said cash flow per share this year should be 2 50 to three dlrs reuter 3'"
      ]
     },
     "execution_count": 7,
     "metadata": {},
     "output_type": "execute_result"
    }
   ],
   "source": [
    "decoded_newswire"
   ]
  },
  {
   "cell_type": "markdown",
   "metadata": {},
   "source": [
    "The label associated with an example is an integer between 0 and 45: a topic index."
   ]
  },
  {
   "cell_type": "code",
   "execution_count": 8,
   "metadata": {},
   "outputs": [
    {
     "data": {
      "text/plain": [
       "3"
      ]
     },
     "execution_count": 8,
     "metadata": {},
     "output_type": "execute_result"
    }
   ],
   "source": [
    "train_labels[10]"
   ]
  },
  {
   "cell_type": "markdown",
   "metadata": {},
   "source": [
    "## Preparing the data\n",
    "\n",
    "We can vectorize the data with the exact same code as in our previous example:"
   ]
  },
  {
   "cell_type": "code",
   "execution_count": 9,
   "metadata": {},
   "outputs": [],
   "source": [
    "import numpy as np\n",
    "\n",
    "def vectorize_sequences(sequences, dimension=10000):\n",
    "    results = np.zeros((len(sequences), dimension))\n",
    "    for i, sequence in enumerate(sequences):\n",
    "        results[i, sequence] = 1.\n",
    "    return results\n",
    "\n",
    "# Our vectorized training data\n",
    "x_train = vectorize_sequences(train_data)\n",
    "# Our vectorized test data\n",
    "x_test = vectorize_sequences(test_data)"
   ]
  },
  {
   "cell_type": "markdown",
   "metadata": {},
   "source": [
    "\n",
    "To vectorize the labels, there are two possibilities: we could just cast the label list as an integer tensor, or we could use a \"one-hot\" \n",
    "encoding. One-hot encoding is a widely used format for categorical data, also called \"categorical encoding\". \n",
    "For a more detailed explanation of one-hot encoding, you can refer to Chapter 6, Section 1. \n",
    "In our case, one-hot encoding of our labels consists in embedding each label as an all-zero vector with a 1 in the place of the label index, e.g.:"
   ]
  },
  {
   "cell_type": "code",
   "execution_count": 10,
   "metadata": {},
   "outputs": [],
   "source": [
    "def to_one_hot(labels, dimension=46):\n",
    "    results = np.zeros((len(labels), dimension))\n",
    "    for i, label in enumerate(labels):\n",
    "        results[i, label] = 1.\n",
    "    return results\n",
    "\n",
    "# Our vectorized training labels\n",
    "one_hot_train_labels = to_one_hot(train_labels)\n",
    "# Our vectorized test labels\n",
    "one_hot_test_labels = to_one_hot(test_labels)"
   ]
  },
  {
   "cell_type": "markdown",
   "metadata": {},
   "source": [
    "Note that there is a built-in way to do this in Keras, which you have already seen in action in our MNIST example:"
   ]
  },
  {
   "cell_type": "code",
   "execution_count": 11,
   "metadata": {},
   "outputs": [],
   "source": [
    "from keras.utils.np_utils import to_categorical\n",
    "\n",
    "one_hot_train_labels = to_categorical(train_labels)\n",
    "one_hot_test_labels = to_categorical(test_labels)"
   ]
  },
  {
   "cell_type": "markdown",
   "metadata": {},
   "source": [
    "## Building our network\n",
    "\n",
    "\n",
    "This topic classification problem looks very similar to our previous movie review classification problem: in both cases, we are trying to \n",
    "classify short snippets of text. There is however a new constraint here: the number of output classes has gone from 2 to 46, i.e. the \n",
    "dimensionality of the output space is much larger. \n",
    "\n",
    "In a stack of `Dense` layers like what we were using, each layer can only access information present in the output of the previous layer. \n",
    "If one layer drops some information relevant to the classification problem, this information can never be recovered by later layers: each \n",
    "layer can potentially become an \"information bottleneck\". In our previous example, we were using 16-dimensional intermediate layers, but a \n",
    "16-dimensional space may be too limited to learn to separate 46 different classes: such small layers may act as information bottlenecks, \n",
    "permanently dropping relevant information.\n",
    "\n",
    "For this reason we will use larger layers. Let's go with 64 units:"
   ]
  },
  {
   "cell_type": "code",
   "execution_count": 12,
   "metadata": {},
   "outputs": [],
   "source": [
    "from keras import models\n",
    "from keras import layers\n",
    "\n",
    "model = models.Sequential()\n",
    "model.add(layers.Dense(64, activation='relu', input_shape=(10000,)))\n",
    "model.add(layers.Dense(64, activation='relu'))\n",
    "model.add(layers.Dense(46, activation='softmax'))"
   ]
  },
  {
   "cell_type": "markdown",
   "metadata": {},
   "source": [
    "\n",
    "There are two other things you should note about this architecture:\n",
    "\n",
    "* We are ending the network with a `Dense` layer of size 46. This means that for each input sample, our network will output a \n",
    "46-dimensional vector. Each entry in this vector (each dimension) will encode a different output class.\n",
    "* The last layer uses a `softmax` activation. You have already seen this pattern in the MNIST example. It means that the network will \n",
    "output a _probability distribution_ over the 46 different output classes, i.e. for every input sample, the network will produce a \n",
    "46-dimensional output vector where `output[i]` is the probability that the sample belongs to class `i`. The 46 scores will sum to 1.\n",
    "\n",
    "The best loss function to use in this case is `categorical_crossentropy`. It measures the distance between two probability distributions: \n",
    "in our case, between the probability distribution output by our network, and the true distribution of the labels. By minimizing the \n",
    "distance between these two distributions, we train our network to output something as close as possible to the true labels."
   ]
  },
  {
   "cell_type": "code",
   "execution_count": 13,
   "metadata": {},
   "outputs": [],
   "source": [
    "model.compile(optimizer='rmsprop',\n",
    "              loss='categorical_crossentropy',\n",
    "              metrics=['accuracy'])"
   ]
  },
  {
   "cell_type": "markdown",
   "metadata": {},
   "source": [
    "## Validating our approach\n",
    "\n",
    "Let's set apart 1,000 samples in our training data to use as a validation set:"
   ]
  },
  {
   "cell_type": "code",
   "execution_count": 14,
   "metadata": {},
   "outputs": [],
   "source": [
    "x_val = x_train[:1000]\n",
    "partial_x_train = x_train[1000:]\n",
    "\n",
    "y_val = one_hot_train_labels[:1000]\n",
    "partial_y_train = one_hot_train_labels[1000:]"
   ]
  },
  {
   "cell_type": "markdown",
   "metadata": {},
   "source": [
    "Now let's train our network for 20 epochs:"
   ]
  },
  {
   "cell_type": "code",
   "execution_count": 15,
   "metadata": {},
   "outputs": [
    {
     "name": "stdout",
     "output_type": "stream",
     "text": [
      "Train on 7982 samples, validate on 1000 samples\n",
      "Epoch 1/20\n",
      "7982/7982 [==============================] - 3s 438us/step - loss: 2.5207 - accuracy: 0.4957 - val_loss: 1.6832 - val_accuracy: 0.6350\n",
      "Epoch 2/20\n",
      "7982/7982 [==============================] - 1s 165us/step - loss: 1.3697 - accuracy: 0.7116 - val_loss: 1.2878 - val_accuracy: 0.7290\n",
      "Epoch 3/20\n",
      "7982/7982 [==============================] - 1s 165us/step - loss: 1.0166 - accuracy: 0.7820 - val_loss: 1.1121 - val_accuracy: 0.7460\n",
      "Epoch 4/20\n",
      "7982/7982 [==============================] - 1s 163us/step - loss: 0.7915 - accuracy: 0.8307 - val_loss: 1.0118 - val_accuracy: 0.7920\n",
      "Epoch 5/20\n",
      "7982/7982 [==============================] - 1s 163us/step - loss: 0.6237 - accuracy: 0.8712 - val_loss: 0.9714 - val_accuracy: 0.7870\n",
      "Epoch 6/20\n",
      "7982/7982 [==============================] - 1s 163us/step - loss: 0.4939 - accuracy: 0.8999 - val_loss: 0.9186 - val_accuracy: 0.8200\n",
      "Epoch 7/20\n",
      "7982/7982 [==============================] - 1s 163us/step - loss: 0.3950 - accuracy: 0.9223 - val_loss: 0.9050 - val_accuracy: 0.8120\n",
      "Epoch 8/20\n",
      "7982/7982 [==============================] - 1s 163us/step - loss: 0.3218 - accuracy: 0.9317 - val_loss: 0.9450 - val_accuracy: 0.8010\n",
      "Epoch 9/20\n",
      "7982/7982 [==============================] - 1s 164us/step - loss: 0.2688 - accuracy: 0.9412 - val_loss: 0.8779 - val_accuracy: 0.8210\n",
      "Epoch 10/20\n",
      "7982/7982 [==============================] - 1s 163us/step - loss: 0.2282 - accuracy: 0.9465 - val_loss: 0.9203 - val_accuracy: 0.8170\n",
      "Epoch 11/20\n",
      "7982/7982 [==============================] - 1s 165us/step - loss: 0.1967 - accuracy: 0.9494 - val_loss: 0.9093 - val_accuracy: 0.8230\n",
      "Epoch 12/20\n",
      "7982/7982 [==============================] - 1s 163us/step - loss: 0.1710 - accuracy: 0.9534 - val_loss: 0.9913 - val_accuracy: 0.8050\n",
      "Epoch 13/20\n",
      "7982/7982 [==============================] - 1s 165us/step - loss: 0.1614 - accuracy: 0.9528 - val_loss: 0.9934 - val_accuracy: 0.8060\n",
      "Epoch 14/20\n",
      "7982/7982 [==============================] - 1s 165us/step - loss: 0.1419 - accuracy: 0.9548 - val_loss: 1.0113 - val_accuracy: 0.7990\n",
      "Epoch 15/20\n",
      "7982/7982 [==============================] - 1s 163us/step - loss: 0.1312 - accuracy: 0.9570 - val_loss: 1.0170 - val_accuracy: 0.8010\n",
      "Epoch 16/20\n",
      "7982/7982 [==============================] - 1s 165us/step - loss: 0.1272 - accuracy: 0.9569 - val_loss: 0.9913 - val_accuracy: 0.8040\n",
      "Epoch 17/20\n",
      "7982/7982 [==============================] - 1s 168us/step - loss: 0.1230 - accuracy: 0.9582 - val_loss: 1.0205 - val_accuracy: 0.8090\n",
      "Epoch 18/20\n",
      "7982/7982 [==============================] - 1s 168us/step - loss: 0.1196 - accuracy: 0.9563 - val_loss: 1.0642 - val_accuracy: 0.8020\n",
      "Epoch 19/20\n",
      "7982/7982 [==============================] - 1s 174us/step - loss: 0.1092 - accuracy: 0.9589 - val_loss: 1.0717 - val_accuracy: 0.8030\n",
      "Epoch 20/20\n",
      "7982/7982 [==============================] - 1s 171us/step - loss: 0.1127 - accuracy: 0.9569 - val_loss: 1.0722 - val_accuracy: 0.8030\n"
     ]
    }
   ],
   "source": [
    "history = model.fit(partial_x_train,\n",
    "                    partial_y_train,\n",
    "                    epochs=20,\n",
    "                    batch_size=512,\n",
    "                    validation_data=(x_val, y_val))"
   ]
  },
  {
   "cell_type": "code",
   "execution_count": 18,
   "metadata": {},
   "outputs": [
    {
     "data": {
      "text/plain": [
       "dict_keys(['val_loss', 'val_accuracy', 'loss', 'accuracy'])"
      ]
     },
     "execution_count": 18,
     "metadata": {},
     "output_type": "execute_result"
    }
   ],
   "source": [
    "history_dict = history.history\n",
    "history_dict.keys()"
   ]
  },
  {
   "cell_type": "markdown",
   "metadata": {},
   "source": [
    "Let's display its loss and accuracy curves:"
   ]
  },
  {
   "cell_type": "code",
   "execution_count": 16,
   "metadata": {},
   "outputs": [
    {
     "data": {
      "image/png": "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